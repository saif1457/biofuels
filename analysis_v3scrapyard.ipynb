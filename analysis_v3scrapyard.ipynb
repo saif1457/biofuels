{
 "cells": [
  {
   "cell_type": "code",
   "execution_count": 1,
   "metadata": {},
   "outputs": [],
   "source": [
    "# D=0.25"
   ]
  },
  {
   "cell_type": "code",
   "execution_count": 2,
   "metadata": {},
   "outputs": [
    {
     "ename": "KeyError",
     "evalue": "\"['CENSUSAREA', 'STATE', 'NAME'] not in index\"",
     "output_type": "error",
     "traceback": [
      "\u001b[0;31m---------------------------------------------------------------------------\u001b[0m",
      "\u001b[0;31mKeyError\u001b[0m                                  Traceback (most recent call last)",
      "\u001b[0;32m<ipython-input-2-d7fb2b328deb>\u001b[0m in \u001b[0;36m<module>\u001b[0;34m\u001b[0m\n\u001b[1;32m     47\u001b[0m \u001b[0me85_vi\u001b[0m \u001b[0;34m=\u001b[0m \u001b[0mpd\u001b[0m\u001b[0;34m.\u001b[0m\u001b[0mread_csv\u001b[0m\u001b[0;34m(\u001b[0m\u001b[0;34m'e85_vi.csv'\u001b[0m\u001b[0;34m)\u001b[0m\u001b[0;34m\u001b[0m\u001b[0m\n\u001b[1;32m     48\u001b[0m \u001b[0mefuels_vi\u001b[0m \u001b[0;34m=\u001b[0m \u001b[0mpd\u001b[0m\u001b[0;34m.\u001b[0m\u001b[0mread_csv\u001b[0m\u001b[0;34m(\u001b[0m\u001b[0;34m'efuels_vi.csv'\u001b[0m\u001b[0;34m)\u001b[0m\u001b[0;34m\u001b[0m\u001b[0m\n\u001b[0;32m---> 49\u001b[0;31m \u001b[0me85_vi\u001b[0m \u001b[0;34m=\u001b[0m \u001b[0me85_vi\u001b[0m\u001b[0;34m[\u001b[0m\u001b[0;34m[\u001b[0m\u001b[0;34m'STATE'\u001b[0m\u001b[0;34m,\u001b[0m\u001b[0;34m'NAME'\u001b[0m\u001b[0;34m,\u001b[0m\u001b[0;34m'CENSUSAREA'\u001b[0m\u001b[0;34m,\u001b[0m\u001b[0;34m'e85_area'\u001b[0m\u001b[0;34m]\u001b[0m\u001b[0;34m]\u001b[0m\u001b[0;34m\u001b[0m\u001b[0m\n\u001b[0m\u001b[1;32m     50\u001b[0m \u001b[0me85_vi\u001b[0m \u001b[0;34m=\u001b[0m \u001b[0me85_vi\u001b[0m\u001b[0;34m.\u001b[0m\u001b[0mrename\u001b[0m\u001b[0;34m(\u001b[0m\u001b[0mcolumns\u001b[0m\u001b[0;34m=\u001b[0m\u001b[0;34m{\u001b[0m\u001b[0;34m'STATE'\u001b[0m\u001b[0;34m:\u001b[0m \u001b[0;34m'state'\u001b[0m\u001b[0;34m,\u001b[0m \u001b[0;34m'NAME'\u001b[0m\u001b[0;34m:\u001b[0m \u001b[0;34m'county'\u001b[0m\u001b[0;34m,\u001b[0m\u001b[0;34m'CENSUSAREA'\u001b[0m\u001b[0;34m:\u001b[0m\u001b[0;34m'census_area'\u001b[0m\u001b[0;34m}\u001b[0m\u001b[0;34m)\u001b[0m\u001b[0;34m\u001b[0m\u001b[0m\n\u001b[1;32m     51\u001b[0m \u001b[0mefuels_vi\u001b[0m \u001b[0;34m=\u001b[0m \u001b[0mefuels_vi\u001b[0m\u001b[0;34m[\u001b[0m\u001b[0;34m[\u001b[0m\u001b[0;34m'STATE'\u001b[0m\u001b[0;34m,\u001b[0m\u001b[0;34m'NAME'\u001b[0m\u001b[0;34m,\u001b[0m\u001b[0;34m'CENSUSAREA'\u001b[0m\u001b[0;34m,\u001b[0m\u001b[0;34m'efuels_area'\u001b[0m\u001b[0;34m]\u001b[0m\u001b[0;34m]\u001b[0m\u001b[0;34m\u001b[0m\u001b[0m\n",
      "\u001b[0;32m~/anaconda3/lib/python3.6/site-packages/pandas/core/frame.py\u001b[0m in \u001b[0;36m__getitem__\u001b[0;34m(self, key)\u001b[0m\n\u001b[1;32m   2804\u001b[0m             \u001b[0;32mif\u001b[0m \u001b[0mis_iterator\u001b[0m\u001b[0;34m(\u001b[0m\u001b[0mkey\u001b[0m\u001b[0;34m)\u001b[0m\u001b[0;34m:\u001b[0m\u001b[0;34m\u001b[0m\u001b[0m\n\u001b[1;32m   2805\u001b[0m                 \u001b[0mkey\u001b[0m \u001b[0;34m=\u001b[0m \u001b[0mlist\u001b[0m\u001b[0;34m(\u001b[0m\u001b[0mkey\u001b[0m\u001b[0;34m)\u001b[0m\u001b[0;34m\u001b[0m\u001b[0m\n\u001b[0;32m-> 2806\u001b[0;31m             \u001b[0mindexer\u001b[0m \u001b[0;34m=\u001b[0m \u001b[0mself\u001b[0m\u001b[0;34m.\u001b[0m\u001b[0mloc\u001b[0m\u001b[0;34m.\u001b[0m\u001b[0m_get_listlike_indexer\u001b[0m\u001b[0;34m(\u001b[0m\u001b[0mkey\u001b[0m\u001b[0;34m,\u001b[0m \u001b[0maxis\u001b[0m\u001b[0;34m=\u001b[0m\u001b[0;36m1\u001b[0m\u001b[0;34m,\u001b[0m \u001b[0mraise_missing\u001b[0m\u001b[0;34m=\u001b[0m\u001b[0;32mTrue\u001b[0m\u001b[0;34m)\u001b[0m\u001b[0;34m[\u001b[0m\u001b[0;36m1\u001b[0m\u001b[0;34m]\u001b[0m\u001b[0;34m\u001b[0m\u001b[0m\n\u001b[0m\u001b[1;32m   2807\u001b[0m \u001b[0;34m\u001b[0m\u001b[0m\n\u001b[1;32m   2808\u001b[0m         \u001b[0;31m# take() does not accept boolean indexers\u001b[0m\u001b[0;34m\u001b[0m\u001b[0;34m\u001b[0m\u001b[0m\n",
      "\u001b[0;32m~/anaconda3/lib/python3.6/site-packages/pandas/core/indexing.py\u001b[0m in \u001b[0;36m_get_listlike_indexer\u001b[0;34m(self, key, axis, raise_missing)\u001b[0m\n\u001b[1;32m   1551\u001b[0m \u001b[0;34m\u001b[0m\u001b[0m\n\u001b[1;32m   1552\u001b[0m         self._validate_read_indexer(\n\u001b[0;32m-> 1553\u001b[0;31m             \u001b[0mkeyarr\u001b[0m\u001b[0;34m,\u001b[0m \u001b[0mindexer\u001b[0m\u001b[0;34m,\u001b[0m \u001b[0mo\u001b[0m\u001b[0;34m.\u001b[0m\u001b[0m_get_axis_number\u001b[0m\u001b[0;34m(\u001b[0m\u001b[0maxis\u001b[0m\u001b[0;34m)\u001b[0m\u001b[0;34m,\u001b[0m \u001b[0mraise_missing\u001b[0m\u001b[0;34m=\u001b[0m\u001b[0mraise_missing\u001b[0m\u001b[0;34m\u001b[0m\u001b[0m\n\u001b[0m\u001b[1;32m   1554\u001b[0m         )\n\u001b[1;32m   1555\u001b[0m         \u001b[0;32mreturn\u001b[0m \u001b[0mkeyarr\u001b[0m\u001b[0;34m,\u001b[0m \u001b[0mindexer\u001b[0m\u001b[0;34m\u001b[0m\u001b[0m\n",
      "\u001b[0;32m~/anaconda3/lib/python3.6/site-packages/pandas/core/indexing.py\u001b[0m in \u001b[0;36m_validate_read_indexer\u001b[0;34m(self, key, indexer, axis, raise_missing)\u001b[0m\n\u001b[1;32m   1644\u001b[0m             \u001b[0;32mif\u001b[0m \u001b[0;32mnot\u001b[0m \u001b[0;34m(\u001b[0m\u001b[0mself\u001b[0m\u001b[0;34m.\u001b[0m\u001b[0mname\u001b[0m \u001b[0;34m==\u001b[0m \u001b[0;34m\"loc\"\u001b[0m \u001b[0;32mand\u001b[0m \u001b[0;32mnot\u001b[0m \u001b[0mraise_missing\u001b[0m\u001b[0;34m)\u001b[0m\u001b[0;34m:\u001b[0m\u001b[0;34m\u001b[0m\u001b[0m\n\u001b[1;32m   1645\u001b[0m                 \u001b[0mnot_found\u001b[0m \u001b[0;34m=\u001b[0m \u001b[0mlist\u001b[0m\u001b[0;34m(\u001b[0m\u001b[0mset\u001b[0m\u001b[0;34m(\u001b[0m\u001b[0mkey\u001b[0m\u001b[0;34m)\u001b[0m \u001b[0;34m-\u001b[0m \u001b[0mset\u001b[0m\u001b[0;34m(\u001b[0m\u001b[0max\u001b[0m\u001b[0;34m)\u001b[0m\u001b[0;34m)\u001b[0m\u001b[0;34m\u001b[0m\u001b[0m\n\u001b[0;32m-> 1646\u001b[0;31m                 \u001b[0;32mraise\u001b[0m \u001b[0mKeyError\u001b[0m\u001b[0;34m(\u001b[0m\u001b[0;34mf\"{not_found} not in index\"\u001b[0m\u001b[0;34m)\u001b[0m\u001b[0;34m\u001b[0m\u001b[0m\n\u001b[0m\u001b[1;32m   1647\u001b[0m \u001b[0;34m\u001b[0m\u001b[0m\n\u001b[1;32m   1648\u001b[0m             \u001b[0;31m# we skip the warning on Categorical/Interval\u001b[0m\u001b[0;34m\u001b[0m\u001b[0;34m\u001b[0m\u001b[0m\n",
      "\u001b[0;31mKeyError\u001b[0m: \"['CENSUSAREA', 'STATE', 'NAME'] not in index\""
     ]
    }
   ],
   "source": [
    "#!pip install pulp\n",
    "from scipy.optimize import minimize\n",
    "import matplotlib.pyplot as plt\n",
    "from itertools import product\n",
    "from tqdm import tqdm\n",
    "import pandas as pd\n",
    "from pulp import *\n",
    "import numpy as np\n",
    "\n",
    "#import files from github\n",
    "V = pd.read_csv('https://raw.githubusercontent.com/saif1457/biofuels/master/optimisation_data/V.csv') #vehicle types\n",
    "F = pd.read_csv('https://raw.githubusercontent.com/saif1457/biofuels/master/optimisation_data/F.csv') #fuel types\n",
    "E = pd.read_csv('https://raw.githubusercontent.com/saif1457/biofuels/master/optimisation_data/E.csv') #driving env\n",
    "R = pd.read_csv('https://raw.githubusercontent.com/saif1457/biofuels/master/optimisation_data/R.csv') #counties\n",
    "M = pd.read_csv('https://raw.githubusercontent.com/saif1457/biofuels/master/optimisation_data/M.csv') #charging stations\n",
    "S = pd.read_csv('https://raw.githubusercontent.com/saif1457/biofuels/master/optimisation_data/S.csv') #states\n",
    "\n",
    "F['fuel_type'] = F['fuel_type'].apply(lambda x: x.replace('electricity','Electricity'))\n",
    "\n",
    "VEHICLE_TYPES = list(V['vehicle_type'])\n",
    "FUEL_TYPES = list(F['fuel_type'])\n",
    "DRIVING_ENV = list(E['driving_environment'])\n",
    "COUNTIES = list(R['county'])\n",
    "CHARGING_STATIONS = list(M['filling_stations'])\n",
    "STATES = list(S['state'])\n",
    "\n",
    "EF = pd.read_csv('https://raw.githubusercontent.com/saif1457/biofuels/master/optimisation_data/EF(f%2Cs).csv')\n",
    "EF['fuel_type'] = EF['fuel_type'].apply(lambda x: x.replace('electricity','Electricity'))\n",
    "FE = pd.read_csv('https://raw.githubusercontent.com/saif1457/biofuels/master/optimisation_data/FE(v%2Cf).csv')\n",
    "FE['fuel_type'] = FE['fuel_type'].apply(lambda x: x.replace('electricity','Electricity'))\n",
    "C = pd.read_csv('https://raw.githubusercontent.com/saif1457/biofuels/master/optimisation_data/C(F).csv')\n",
    "CC = pd.read_csv('https://raw.githubusercontent.com/saif1457/biofuels/master/optimisation_data/CC(v%2Cs).csv') \n",
    "CC['yearly_cost']=np.where(CC['vehicle_type']=='BEV', CC['cost_minus_rebate']/8.5, CC['cost_minus_rebate']/5.5)\n",
    "CG = pd.read_csv('https://raw.githubusercontent.com/saif1457/biofuels/master/optimisation_data/CG(F).csv')\n",
    "CG['fuel_type'] = CG['fuel_type'].apply(lambda x: x.replace('electricity','Electricity'))\n",
    "# D = 0.25\n",
    "TM = pd.read_csv('https://raw.githubusercontent.com/saif1457/biofuels/master/optimisation_data/TM(f%2Cs).csv')\n",
    "N = pd.read_csv('https://raw.githubusercontent.com/saif1457/biofuels/master/optimisation_data/N(r).csv')\n",
    "B = pd.read_csv('https://raw.githubusercontent.com/saif1457/biofuels/master/optimisation_data/B(r).csv')\n",
    "CF = FE\n",
    "CF['fuel_consumption'] = (1 / CF['fuel_economy'])\n",
    "T = pd.read_csv('https://raw.githubusercontent.com/saif1457/biofuels/master/optimisation_data/T(r).csv')\n",
    "T['total_vehicles_registered'] = T['total_vehicles_registered'].apply(lambda x: x.replace(',',''))\n",
    "T['total_vehicles_registered'] = T['total_vehicles_registered'].apply(pd.to_numeric)\n",
    "W_param = pd.read_csv('https://raw.githubusercontent.com/saif1457/biofuels/master/optimisation_data/W_county_param.csv')\n",
    "\n",
    "e85_vi = pd.read_csv('e85_vi.csv')\n",
    "efuels_vi = pd.read_csv('efuels_vi.csv')\n",
    "e85_vi = e85_vi[['STATE','NAME','CENSUSAREA','e85_area']]\n",
    "e85_vi = e85_vi.rename(columns={'STATE': 'state', 'NAME': 'county','CENSUSAREA':'census_area'})\n",
    "efuels_vi = efuels_vi[['STATE','NAME','CENSUSAREA','efuels_area']]\n",
    "efuels_vi = efuels_vi.rename(columns={'STATE': 'state', 'NAME': 'county','CENSUSAREA':'census_area'})\n",
    "\n",
    "import feather\n",
    "readFrame = pd.read_feather('/Users/saifbhatti/Desktop/biofuels/analysed_vdf', use_threads=True)\n",
    "efuels_vi.county = efuels_vi.county.str.replace('_',' ')\n",
    "efuels_vi = efuels_vi.merge(readFrame,left_on='county',right_on='County')\n",
    "efuels_vi = efuels_vi[['state', 'county', 'census_area_x', 'efuels_area_y']]\n",
    "efuels_vi.rename(columns={'efuels_area_y':'efuels_area','census_area_x':'census_area'},inplace=True)\n",
    "\n",
    "\n",
    "e85_vi['e85_area'] = e85_vi['e85_area'] / 100\n",
    "efuels_vi['efuels_area'] = efuels_vi['efuels_area']/100\n",
    "\n",
    "e85vi_param = e85_vi.groupby('county')['e85_area'].apply(list).to_dict()\n",
    "efuelsvi_param = efuels_vi.groupby('county')['efuels_area'].apply(list).to_dict()"
   ]
  },
  {
   "cell_type": "code",
   "execution_count": null,
   "metadata": {},
   "outputs": [],
   "source": [
    "efuels_vi[efuels_vi['county']=='San Francisco']"
   ]
  },
  {
   "cell_type": "code",
   "execution_count": null,
   "metadata": {},
   "outputs": [],
   "source": [
    "efuels_vi.to_csv('efuels_vi.csv')"
   ]
  },
  {
   "cell_type": "code",
   "execution_count": null,
   "metadata": {},
   "outputs": [],
   "source": [
    "efuels_vi.describe()"
   ]
  },
  {
   "cell_type": "code",
   "execution_count": null,
   "metadata": {},
   "outputs": [],
   "source": [
    "e85_vi[e85_vi['county']=='San Francisco']"
   ]
  },
  {
   "cell_type": "code",
   "execution_count": null,
   "metadata": {},
   "outputs": [],
   "source": [
    "# e85_vi.to_csv('e85_vi.csv')"
   ]
  },
  {
   "cell_type": "code",
   "execution_count": null,
   "metadata": {},
   "outputs": [],
   "source": [
    "e85_vi.describe()"
   ]
  },
  {
   "cell_type": "code",
   "execution_count": null,
   "metadata": {},
   "outputs": [],
   "source": [
    "electric = pd.read_csv('/Users/saifbhatti/Desktop/Northwestern/sy1920/s20/iems394/client-data/iems394/preprocessed_data/electric_fuel_stations.csv')"
   ]
  },
  {
   "cell_type": "code",
   "execution_count": null,
   "metadata": {},
   "outputs": [],
   "source": [
    "electric = electric[['County','State']]"
   ]
  },
  {
   "cell_type": "code",
   "execution_count": null,
   "metadata": {},
   "outputs": [],
   "source": [
    "electric = electric[electric['State'].isin(['MN','TX','CA'])]"
   ]
  },
  {
   "cell_type": "code",
   "execution_count": null,
   "metadata": {},
   "outputs": [],
   "source": [
    "repeated_list = ['Orange','Cass','Lake','Trinity','Houston','Polk','Brown','Clay','Jackson','Washington','Martin']\n",
    "electric.loc[electric['County'].isin(repeated_list), 'County'] = electric['County'] + ' ' + electric['State']\n",
    "\n"
   ]
  },
  {
   "cell_type": "code",
   "execution_count": null,
   "metadata": {},
   "outputs": [],
   "source": [
    "electric['Electric Station Count'] = electric.groupby(by='County').count()['State']"
   ]
  },
  {
   "cell_type": "code",
   "execution_count": null,
   "metadata": {},
   "outputs": [],
   "source": [
    "electric.groupby(by='County').count().reset_index(name='County')"
   ]
  },
  {
   "cell_type": "code",
   "execution_count": null,
   "metadata": {},
   "outputs": [],
   "source": [
    "electric['Efuel Station Count'] = electric.groupby('County')['County'].transform('count')"
   ]
  },
  {
   "cell_type": "code",
   "execution_count": null,
   "metadata": {},
   "outputs": [],
   "source": [
    "electric = electric.groupby(by=['County','State']).count()"
   ]
  },
  {
   "cell_type": "code",
   "execution_count": null,
   "metadata": {},
   "outputs": [],
   "source": [
    "electric.reset_index(inplace=True)\n",
    "electric.to_csv('efuel_station_count')"
   ]
  },
  {
   "cell_type": "code",
   "execution_count": null,
   "metadata": {},
   "outputs": [],
   "source": [
    "electric"
   ]
  },
  {
   "cell_type": "code",
   "execution_count": null,
   "metadata": {},
   "outputs": [],
   "source": []
  },
  {
   "cell_type": "code",
   "execution_count": null,
   "metadata": {},
   "outputs": [],
   "source": []
  },
  {
   "cell_type": "code",
   "execution_count": null,
   "metadata": {},
   "outputs": [],
   "source": []
  },
  {
   "cell_type": "code",
   "execution_count": null,
   "metadata": {},
   "outputs": [],
   "source": []
  },
  {
   "cell_type": "code",
   "execution_count": null,
   "metadata": {},
   "outputs": [],
   "source": []
  }
 ],
 "metadata": {
  "kernelspec": {
   "display_name": "Python 3",
   "language": "python",
   "name": "python3"
  },
  "language_info": {
   "codemirror_mode": {
    "name": "ipython",
    "version": 3
   },
   "file_extension": ".py",
   "mimetype": "text/x-python",
   "name": "python",
   "nbconvert_exporter": "python",
   "pygments_lexer": "ipython3",
   "version": "3.6.3"
  }
 },
 "nbformat": 4,
 "nbformat_minor": 4
}
